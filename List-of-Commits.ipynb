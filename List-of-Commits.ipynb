{
 "cells": [
  {
   "cell_type": "markdown",
   "id": "55210634",
   "metadata": {},
   "source": [
    "# List of Commits"
   ]
  },
  {
   "cell_type": "markdown",
   "id": "f975e604",
   "metadata": {},
   "source": [
    "Test assignment: https://docs.google.com/document/d/1hnBYR3x798YU5ewLpk8Kz5pEmDnCbQ2wd-lM1ff9wgg/edit#"
   ]
  },
  {
   "cell_type": "markdown",
   "id": "dc7e88e9",
   "metadata": {},
   "source": [
    "## 1. Get raw commits"
   ]
  },
  {
   "cell_type": "markdown",
   "id": "1d2cdfa0",
   "metadata": {},
   "source": [
    "### 1.1. Clone [huggingface/transformers](https://github.com/huggingface/transformers)"
   ]
  },
  {
   "cell_type": "code",
   "execution_count": 1,
   "id": "0c9697d1",
   "metadata": {},
   "outputs": [],
   "source": [
    "!git clone https://github.com/huggingface/transformers.git"
   ]
  },
  {
   "cell_type": "markdown",
   "id": "45e70efb",
   "metadata": {},
   "source": [
    "### 1.2. Enter repository folder"
   ]
  },
  {
   "cell_type": "code",
   "execution_count": 2,
   "id": "46f76739",
   "metadata": {},
   "outputs": [
    {
     "name": "stdout",
     "output_type": "stream",
     "text": [
      "/home/bernie/Git/List-of-Commits/transformers\n"
     ]
    }
   ],
   "source": [
    "cd transformers"
   ]
  },
  {
   "cell_type": "markdown",
   "id": "1b47daae",
   "metadata": {},
   "source": [
    "### 1.3. Creating files with commits' information"
   ]
  },
  {
   "cell_type": "markdown",
   "id": "4f9ffe1f",
   "metadata": {},
   "source": [
    "At this step we have access to commits' information. To simlify further process of parsing, I decided to separate commits information into two files: file 'commit_info.csv' with commits' number, number of changed files, number of insertions and number of deletions and file 'commit_message.txt' with commits' messages."
   ]
  },
  {
   "cell_type": "markdown",
   "id": "687460c3",
   "metadata": {},
   "source": [
    "#### Creating 'commit_info.csv'"
   ]
  },
  {
   "cell_type": "code",
   "execution_count": 3,
   "id": "424862f9",
   "metadata": {},
   "outputs": [],
   "source": [
    "!echo 'commit_#,changed_files,diff_+,diff_-' > ../commit_info.csv"
   ]
  },
  {
   "cell_type": "code",
   "execution_count": 4,
   "id": "559444db",
   "metadata": {},
   "outputs": [],
   "source": [
    "!git log --shortstat --pretty='@%H,' | tr \"\\n\" \" \" | tr \"@\" \"\\n\" >> ../commit_info.csv"
   ]
  },
  {
   "cell_type": "code",
   "execution_count": 5,
   "id": "ec5a61fa",
   "metadata": {},
   "outputs": [
    {
     "name": "stdout",
     "output_type": "stream",
     "text": [
      "commit_#,changed_files,diff_+,diff_-\r\n",
      "\r\n",
      "699e90437f984d69ad3c9b891dd2e9d0fc2cffe4,   1 file changed, 1 insertion(+), 1 deletion(-) \r\n",
      "c54646b13d468b7a21fd6ee18f943ad69daab48e,   3 files changed, 168 insertions(+), 1 deletion(-) \r\n",
      "cc3d0e1b017dbb8dcbba1eb01be77aef7bacee1a,   22 files changed, 1682 insertions(+), 6 deletions(-) \r\n",
      "3a9476d1b412274bcc51143acaaee187e9d18120,   1 file changed, 8 insertions(+), 7 deletions(-) \r\n",
      "60d1f31bb009d09e884699bfe30ac34555bb4a5c,   47 files changed, 89 insertions(+), 89 deletions(-) \r\n",
      "5011efbec81a7a1d094a2eda8bde2b74613ca8b8,   1 file changed, 3 insertions(+), 2 deletions(-) \r\n",
      "504ae9181ca3f0918033f098d10a2c63153e26a6,   1 file changed, 4 insertions(+), 4 deletions(-) \r\n",
      "6cb7d6ec36ec5b3f97f76d8e243cf539fec78949,   1 file changed, 6 insertions(+), 1 deletion(-) \r\n"
     ]
    }
   ],
   "source": [
    "!head -10 ../commit_info.csv"
   ]
  },
  {
   "cell_type": "markdown",
   "id": "220da99f",
   "metadata": {},
   "source": [
    "#### Creating 'commit_message.txt'"
   ]
  },
  {
   "cell_type": "code",
   "execution_count": 6,
   "id": "c03b04e8",
   "metadata": {},
   "outputs": [],
   "source": [
    "!git log --pretty='%s' > ../commit_message.txt"
   ]
  },
  {
   "cell_type": "code",
   "execution_count": 7,
   "id": "1a5deb25",
   "metadata": {},
   "outputs": [
    {
     "name": "stdout",
     "output_type": "stream",
     "text": [
      "flan-t5.mdx: fix link to large model (#20555)\r\n",
      "Add ESM contact prediction (#20535)\r\n",
      "[New Model] Add TimeSformer model (#18908)\r\n",
      "fix cuda OOM by using single Prior (#20486)\r\n",
      "v4.26.0.dev0\r\n",
      "Fix link in pipeline device map (#20517)\r\n",
      "Fix Hubert models in TFHubertModel and TFHubertForCTC documentation code (#20516)\r\n",
      "Fix doctest (#20534)\r\n",
      "QnA example: add speed metric (#20522)\r\n",
      "update post_process_image_guided_detection (#20521)\r\n"
     ]
    }
   ],
   "source": [
    "!head -10 ../commit_message.txt"
   ]
  },
  {
   "cell_type": "markdown",
   "id": "8253c9a9",
   "metadata": {},
   "source": [
    "### 1.4. Exit repository folder"
   ]
  },
  {
   "cell_type": "code",
   "execution_count": 8,
   "id": "c702d5da",
   "metadata": {},
   "outputs": [
    {
     "name": "stdout",
     "output_type": "stream",
     "text": [
      "/home/bernie/Git/List-of-Commits\n"
     ]
    }
   ],
   "source": [
    "cd ../"
   ]
  },
  {
   "cell_type": "markdown",
   "id": "ae2fdb48",
   "metadata": {},
   "source": [
    "## 2. Parse raw commits"
   ]
  },
  {
   "cell_type": "code",
   "execution_count": 9,
   "id": "c421fe09",
   "metadata": {},
   "outputs": [],
   "source": [
    "import pandas as pd\n",
    "import numpy as np"
   ]
  },
  {
   "cell_type": "markdown",
   "id": "9479c214",
   "metadata": {},
   "source": [
    "### 2.1. Read 'commit_info.csv' into DataFrame"
   ]
  },
  {
   "cell_type": "code",
   "execution_count": 10,
   "id": "16149bcf",
   "metadata": {},
   "outputs": [],
   "source": [
    "df = pd.read_csv(\"commit_info.csv\")"
   ]
  },
  {
   "cell_type": "code",
   "execution_count": 11,
   "id": "2aff8f28",
   "metadata": {},
   "outputs": [
    {
     "data": {
      "text/html": [
       "<div>\n",
       "<style scoped>\n",
       "    .dataframe tbody tr th:only-of-type {\n",
       "        vertical-align: middle;\n",
       "    }\n",
       "\n",
       "    .dataframe tbody tr th {\n",
       "        vertical-align: top;\n",
       "    }\n",
       "\n",
       "    .dataframe thead th {\n",
       "        text-align: right;\n",
       "    }\n",
       "</style>\n",
       "<table border=\"1\" class=\"dataframe\">\n",
       "  <thead>\n",
       "    <tr style=\"text-align: right;\">\n",
       "      <th></th>\n",
       "      <th>commit_#</th>\n",
       "      <th>changed_files</th>\n",
       "      <th>diff_+</th>\n",
       "      <th>diff_-</th>\n",
       "    </tr>\n",
       "  </thead>\n",
       "  <tbody>\n",
       "    <tr>\n",
       "      <th>0</th>\n",
       "      <td>699e90437f984d69ad3c9b891dd2e9d0fc2cffe4</td>\n",
       "      <td>1 file changed</td>\n",
       "      <td>1 insertion(+)</td>\n",
       "      <td>1 deletion(-)</td>\n",
       "    </tr>\n",
       "    <tr>\n",
       "      <th>1</th>\n",
       "      <td>c54646b13d468b7a21fd6ee18f943ad69daab48e</td>\n",
       "      <td>3 files changed</td>\n",
       "      <td>168 insertions(+)</td>\n",
       "      <td>1 deletion(-)</td>\n",
       "    </tr>\n",
       "    <tr>\n",
       "      <th>2</th>\n",
       "      <td>cc3d0e1b017dbb8dcbba1eb01be77aef7bacee1a</td>\n",
       "      <td>22 files changed</td>\n",
       "      <td>1682 insertions(+)</td>\n",
       "      <td>6 deletions(-)</td>\n",
       "    </tr>\n",
       "    <tr>\n",
       "      <th>3</th>\n",
       "      <td>3a9476d1b412274bcc51143acaaee187e9d18120</td>\n",
       "      <td>1 file changed</td>\n",
       "      <td>8 insertions(+)</td>\n",
       "      <td>7 deletions(-)</td>\n",
       "    </tr>\n",
       "    <tr>\n",
       "      <th>4</th>\n",
       "      <td>60d1f31bb009d09e884699bfe30ac34555bb4a5c</td>\n",
       "      <td>47 files changed</td>\n",
       "      <td>89 insertions(+)</td>\n",
       "      <td>89 deletions(-)</td>\n",
       "    </tr>\n",
       "  </tbody>\n",
       "</table>\n",
       "</div>"
      ],
      "text/plain": [
       "                                   commit_#        changed_files  \\\n",
       "0  699e90437f984d69ad3c9b891dd2e9d0fc2cffe4       1 file changed   \n",
       "1  c54646b13d468b7a21fd6ee18f943ad69daab48e      3 files changed   \n",
       "2  cc3d0e1b017dbb8dcbba1eb01be77aef7bacee1a     22 files changed   \n",
       "3  3a9476d1b412274bcc51143acaaee187e9d18120       1 file changed   \n",
       "4  60d1f31bb009d09e884699bfe30ac34555bb4a5c     47 files changed   \n",
       "\n",
       "                diff_+             diff_-  \n",
       "0       1 insertion(+)     1 deletion(-)   \n",
       "1    168 insertions(+)     1 deletion(-)   \n",
       "2   1682 insertions(+)    6 deletions(-)   \n",
       "3      8 insertions(+)    7 deletions(-)   \n",
       "4     89 insertions(+)   89 deletions(-)   "
      ]
     },
     "execution_count": 11,
     "metadata": {},
     "output_type": "execute_result"
    }
   ],
   "source": [
    "df.head()"
   ]
  },
  {
   "cell_type": "markdown",
   "id": "0a78e61d",
   "metadata": {},
   "source": [
    "The following data processing is made here:\n",
    "- deleted unnessesary column 'changed_files'\n",
    "- Nan fields replaces with 0\n",
    "- in 'diff_+' and 'diff_-' columns numbers are extracted from strings"
   ]
  },
  {
   "cell_type": "code",
   "execution_count": 12,
   "id": "55bcb4e2",
   "metadata": {
    "scrolled": true
   },
   "outputs": [],
   "source": [
    "df.drop(\"changed_files\", axis=1, inplace=True)\n",
    "df.fillna(0, inplace=True)"
   ]
  },
  {
   "cell_type": "code",
   "execution_count": 13,
   "id": "93aaefb3",
   "metadata": {},
   "outputs": [
    {
     "data": {
      "text/html": [
       "<div>\n",
       "<style scoped>\n",
       "    .dataframe tbody tr th:only-of-type {\n",
       "        vertical-align: middle;\n",
       "    }\n",
       "\n",
       "    .dataframe tbody tr th {\n",
       "        vertical-align: top;\n",
       "    }\n",
       "\n",
       "    .dataframe thead th {\n",
       "        text-align: right;\n",
       "    }\n",
       "</style>\n",
       "<table border=\"1\" class=\"dataframe\">\n",
       "  <thead>\n",
       "    <tr style=\"text-align: right;\">\n",
       "      <th></th>\n",
       "      <th>commit_#</th>\n",
       "      <th>diff_+</th>\n",
       "      <th>diff_-</th>\n",
       "    </tr>\n",
       "  </thead>\n",
       "  <tbody>\n",
       "    <tr>\n",
       "      <th>0</th>\n",
       "      <td>699e90437f984d69ad3c9b891dd2e9d0fc2cffe4</td>\n",
       "      <td>1 insertion(+)</td>\n",
       "      <td>1 deletion(-)</td>\n",
       "    </tr>\n",
       "    <tr>\n",
       "      <th>1</th>\n",
       "      <td>c54646b13d468b7a21fd6ee18f943ad69daab48e</td>\n",
       "      <td>168 insertions(+)</td>\n",
       "      <td>1 deletion(-)</td>\n",
       "    </tr>\n",
       "    <tr>\n",
       "      <th>2</th>\n",
       "      <td>cc3d0e1b017dbb8dcbba1eb01be77aef7bacee1a</td>\n",
       "      <td>1682 insertions(+)</td>\n",
       "      <td>6 deletions(-)</td>\n",
       "    </tr>\n",
       "    <tr>\n",
       "      <th>3</th>\n",
       "      <td>3a9476d1b412274bcc51143acaaee187e9d18120</td>\n",
       "      <td>8 insertions(+)</td>\n",
       "      <td>7 deletions(-)</td>\n",
       "    </tr>\n",
       "    <tr>\n",
       "      <th>4</th>\n",
       "      <td>60d1f31bb009d09e884699bfe30ac34555bb4a5c</td>\n",
       "      <td>89 insertions(+)</td>\n",
       "      <td>89 deletions(-)</td>\n",
       "    </tr>\n",
       "  </tbody>\n",
       "</table>\n",
       "</div>"
      ],
      "text/plain": [
       "                                   commit_#               diff_+  \\\n",
       "0  699e90437f984d69ad3c9b891dd2e9d0fc2cffe4       1 insertion(+)   \n",
       "1  c54646b13d468b7a21fd6ee18f943ad69daab48e    168 insertions(+)   \n",
       "2  cc3d0e1b017dbb8dcbba1eb01be77aef7bacee1a   1682 insertions(+)   \n",
       "3  3a9476d1b412274bcc51143acaaee187e9d18120      8 insertions(+)   \n",
       "4  60d1f31bb009d09e884699bfe30ac34555bb4a5c     89 insertions(+)   \n",
       "\n",
       "              diff_-  \n",
       "0     1 deletion(-)   \n",
       "1     1 deletion(-)   \n",
       "2    6 deletions(-)   \n",
       "3    7 deletions(-)   \n",
       "4   89 deletions(-)   "
      ]
     },
     "execution_count": 13,
     "metadata": {},
     "output_type": "execute_result"
    }
   ],
   "source": [
    "df.head()"
   ]
  },
  {
   "cell_type": "code",
   "execution_count": 14,
   "id": "d6884d4c",
   "metadata": {},
   "outputs": [],
   "source": [
    "df['diff_+'] = df['diff_+'].str.extract('(\\d+)')\n",
    "df['diff_-'] = df['diff_-'].str.extract('(\\d+)')"
   ]
  },
  {
   "cell_type": "code",
   "execution_count": 15,
   "id": "6e373495",
   "metadata": {},
   "outputs": [
    {
     "data": {
      "text/html": [
       "<div>\n",
       "<style scoped>\n",
       "    .dataframe tbody tr th:only-of-type {\n",
       "        vertical-align: middle;\n",
       "    }\n",
       "\n",
       "    .dataframe tbody tr th {\n",
       "        vertical-align: top;\n",
       "    }\n",
       "\n",
       "    .dataframe thead th {\n",
       "        text-align: right;\n",
       "    }\n",
       "</style>\n",
       "<table border=\"1\" class=\"dataframe\">\n",
       "  <thead>\n",
       "    <tr style=\"text-align: right;\">\n",
       "      <th></th>\n",
       "      <th>commit_#</th>\n",
       "      <th>diff_+</th>\n",
       "      <th>diff_-</th>\n",
       "    </tr>\n",
       "  </thead>\n",
       "  <tbody>\n",
       "    <tr>\n",
       "      <th>0</th>\n",
       "      <td>699e90437f984d69ad3c9b891dd2e9d0fc2cffe4</td>\n",
       "      <td>1</td>\n",
       "      <td>1</td>\n",
       "    </tr>\n",
       "    <tr>\n",
       "      <th>1</th>\n",
       "      <td>c54646b13d468b7a21fd6ee18f943ad69daab48e</td>\n",
       "      <td>168</td>\n",
       "      <td>1</td>\n",
       "    </tr>\n",
       "    <tr>\n",
       "      <th>2</th>\n",
       "      <td>cc3d0e1b017dbb8dcbba1eb01be77aef7bacee1a</td>\n",
       "      <td>1682</td>\n",
       "      <td>6</td>\n",
       "    </tr>\n",
       "    <tr>\n",
       "      <th>3</th>\n",
       "      <td>3a9476d1b412274bcc51143acaaee187e9d18120</td>\n",
       "      <td>8</td>\n",
       "      <td>7</td>\n",
       "    </tr>\n",
       "    <tr>\n",
       "      <th>4</th>\n",
       "      <td>60d1f31bb009d09e884699bfe30ac34555bb4a5c</td>\n",
       "      <td>89</td>\n",
       "      <td>89</td>\n",
       "    </tr>\n",
       "  </tbody>\n",
       "</table>\n",
       "</div>"
      ],
      "text/plain": [
       "                                   commit_# diff_+ diff_-\n",
       "0  699e90437f984d69ad3c9b891dd2e9d0fc2cffe4      1      1\n",
       "1  c54646b13d468b7a21fd6ee18f943ad69daab48e    168      1\n",
       "2  cc3d0e1b017dbb8dcbba1eb01be77aef7bacee1a   1682      6\n",
       "3  3a9476d1b412274bcc51143acaaee187e9d18120      8      7\n",
       "4  60d1f31bb009d09e884699bfe30ac34555bb4a5c     89     89"
      ]
     },
     "execution_count": 15,
     "metadata": {},
     "output_type": "execute_result"
    }
   ],
   "source": [
    "df.head()"
   ]
  },
  {
   "cell_type": "markdown",
   "id": "847a249d",
   "metadata": {},
   "source": [
    "### 2.2. Read 'commit_message.txt' and add 'commit_message' column in DataFrame"
   ]
  },
  {
   "cell_type": "code",
   "execution_count": 16,
   "id": "2fe52e13",
   "metadata": {},
   "outputs": [],
   "source": [
    "f = open(\"commit_message.txt\", \"r\")\n",
    "messages = [line.strip() for line in f]"
   ]
  },
  {
   "cell_type": "code",
   "execution_count": 17,
   "id": "ea1d039a",
   "metadata": {},
   "outputs": [],
   "source": [
    "df.insert(1, 'commit_message', messages)"
   ]
  },
  {
   "cell_type": "code",
   "execution_count": 18,
   "id": "3c46e683",
   "metadata": {},
   "outputs": [
    {
     "data": {
      "text/html": [
       "<div>\n",
       "<style scoped>\n",
       "    .dataframe tbody tr th:only-of-type {\n",
       "        vertical-align: middle;\n",
       "    }\n",
       "\n",
       "    .dataframe tbody tr th {\n",
       "        vertical-align: top;\n",
       "    }\n",
       "\n",
       "    .dataframe thead th {\n",
       "        text-align: right;\n",
       "    }\n",
       "</style>\n",
       "<table border=\"1\" class=\"dataframe\">\n",
       "  <thead>\n",
       "    <tr style=\"text-align: right;\">\n",
       "      <th></th>\n",
       "      <th>commit_#</th>\n",
       "      <th>commit_message</th>\n",
       "      <th>diff_+</th>\n",
       "      <th>diff_-</th>\n",
       "    </tr>\n",
       "  </thead>\n",
       "  <tbody>\n",
       "    <tr>\n",
       "      <th>0</th>\n",
       "      <td>699e90437f984d69ad3c9b891dd2e9d0fc2cffe4</td>\n",
       "      <td>flan-t5.mdx: fix link to large model (#20555)</td>\n",
       "      <td>1</td>\n",
       "      <td>1</td>\n",
       "    </tr>\n",
       "    <tr>\n",
       "      <th>1</th>\n",
       "      <td>c54646b13d468b7a21fd6ee18f943ad69daab48e</td>\n",
       "      <td>Add ESM contact prediction (#20535)</td>\n",
       "      <td>168</td>\n",
       "      <td>1</td>\n",
       "    </tr>\n",
       "    <tr>\n",
       "      <th>2</th>\n",
       "      <td>cc3d0e1b017dbb8dcbba1eb01be77aef7bacee1a</td>\n",
       "      <td>[New Model] Add TimeSformer model (#18908)</td>\n",
       "      <td>1682</td>\n",
       "      <td>6</td>\n",
       "    </tr>\n",
       "    <tr>\n",
       "      <th>3</th>\n",
       "      <td>3a9476d1b412274bcc51143acaaee187e9d18120</td>\n",
       "      <td>fix cuda OOM by using single Prior (#20486)</td>\n",
       "      <td>8</td>\n",
       "      <td>7</td>\n",
       "    </tr>\n",
       "    <tr>\n",
       "      <th>4</th>\n",
       "      <td>60d1f31bb009d09e884699bfe30ac34555bb4a5c</td>\n",
       "      <td>v4.26.0.dev0</td>\n",
       "      <td>89</td>\n",
       "      <td>89</td>\n",
       "    </tr>\n",
       "  </tbody>\n",
       "</table>\n",
       "</div>"
      ],
      "text/plain": [
       "                                   commit_#  \\\n",
       "0  699e90437f984d69ad3c9b891dd2e9d0fc2cffe4   \n",
       "1  c54646b13d468b7a21fd6ee18f943ad69daab48e   \n",
       "2  cc3d0e1b017dbb8dcbba1eb01be77aef7bacee1a   \n",
       "3  3a9476d1b412274bcc51143acaaee187e9d18120   \n",
       "4  60d1f31bb009d09e884699bfe30ac34555bb4a5c   \n",
       "\n",
       "                                  commit_message diff_+ diff_-  \n",
       "0  flan-t5.mdx: fix link to large model (#20555)      1      1  \n",
       "1            Add ESM contact prediction (#20535)    168      1  \n",
       "2     [New Model] Add TimeSformer model (#18908)   1682      6  \n",
       "3    fix cuda OOM by using single Prior (#20486)      8      7  \n",
       "4                                   v4.26.0.dev0     89     89  "
      ]
     },
     "execution_count": 18,
     "metadata": {},
     "output_type": "execute_result"
    }
   ],
   "source": [
    "df.head()"
   ]
  },
  {
   "cell_type": "markdown",
   "id": "6c06e4da",
   "metadata": {},
   "source": [
    "### 2.3. Save resulted DataFrame"
   ]
  },
  {
   "cell_type": "code",
   "execution_count": 19,
   "id": "cc7c343a",
   "metadata": {},
   "outputs": [],
   "source": [
    "df.to_csv(\"list_of_commits.csv\")"
   ]
  }
 ],
 "metadata": {
  "kernelspec": {
   "display_name": "Python 3 (ipykernel)",
   "language": "python",
   "name": "python3"
  },
  "language_info": {
   "codemirror_mode": {
    "name": "ipython",
    "version": 3
   },
   "file_extension": ".py",
   "mimetype": "text/x-python",
   "name": "python",
   "nbconvert_exporter": "python",
   "pygments_lexer": "ipython3",
   "version": "3.10.6"
  }
 },
 "nbformat": 4,
 "nbformat_minor": 5
}
